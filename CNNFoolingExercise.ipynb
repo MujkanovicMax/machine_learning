{
 "cells": [
  {
   "cell_type": "markdown",
   "metadata": {},
   "source": [
    "Neural networks can sometimes be easily fooled. Try to create a random-looking image that makes the NN from [CNNIntro.ipynb](CNNIntro.ipynb) think that it sees a cat. \n",
    "\n",
    "(You need to run that notebook before to get the model that we load (`load_model`) below!)"
   ]
  },
  {
   "cell_type": "code",
   "execution_count": 2,
   "metadata": {},
   "outputs": [
    {
     "name": "stderr",
     "output_type": "stream",
     "text": [
      "Using TensorFlow backend.\n"
     ]
    }
   ],
   "source": [
    "import keras\n",
    "import keras.backend as K\n",
    "import numpy as np\n",
    "import matplotlib.pyplot as plt"
   ]
  },
  {
   "cell_type": "code",
   "execution_count": 3,
   "metadata": {},
   "outputs": [],
   "source": [
    "labels = [\"airplane\", \"automobile\", \"bird\", \"cat\", \"deer\", \"dog\", \"frog\", \"horse\", \"ship\", \"truck\"]"
   ]
  },
  {
   "cell_type": "code",
   "execution_count": 4,
   "metadata": {},
   "outputs": [
    {
     "name": "stderr",
     "output_type": "stream",
     "text": [
      "WARNING: Logging before flag parsing goes to stderr.\n",
      "W0910 14:53:26.822537 140108377229120 deprecation_wrapper.py:119] From /software/opt/bionic/x86_64/anaconda3/2019.07/lib/python3.7/site-packages/keras/backend/tensorflow_backend.py:517: The name tf.placeholder is deprecated. Please use tf.compat.v1.placeholder instead.\n",
      "\n",
      "W0910 14:53:26.837376 140108377229120 deprecation_wrapper.py:119] From /software/opt/bionic/x86_64/anaconda3/2019.07/lib/python3.7/site-packages/keras/backend/tensorflow_backend.py:4138: The name tf.random_uniform is deprecated. Please use tf.random.uniform instead.\n",
      "\n",
      "W0910 14:53:26.855187 140108377229120 deprecation_wrapper.py:119] From /software/opt/bionic/x86_64/anaconda3/2019.07/lib/python3.7/site-packages/keras/backend/tensorflow_backend.py:3976: The name tf.nn.max_pool is deprecated. Please use tf.nn.max_pool2d instead.\n",
      "\n",
      "W0910 14:53:26.858599 140108377229120 deprecation_wrapper.py:119] From /software/opt/bionic/x86_64/anaconda3/2019.07/lib/python3.7/site-packages/keras/backend/tensorflow_backend.py:131: The name tf.get_default_graph is deprecated. Please use tf.compat.v1.get_default_graph instead.\n",
      "\n",
      "W0910 14:53:26.859374 140108377229120 deprecation_wrapper.py:119] From /software/opt/bionic/x86_64/anaconda3/2019.07/lib/python3.7/site-packages/keras/backend/tensorflow_backend.py:133: The name tf.placeholder_with_default is deprecated. Please use tf.compat.v1.placeholder_with_default instead.\n",
      "\n",
      "W0910 14:53:26.868424 140108377229120 deprecation.py:506] From /software/opt/bionic/x86_64/anaconda3/2019.07/lib/python3.7/site-packages/keras/backend/tensorflow_backend.py:3445: calling dropout (from tensorflow.python.ops.nn_ops) with keep_prob is deprecated and will be removed in a future version.\n",
      "Instructions for updating:\n",
      "Please use `rate` instead of `keep_prob`. Rate should be set to `rate = 1 - keep_prob`.\n",
      "W0910 14:53:26.966395 140108377229120 deprecation_wrapper.py:119] From /software/opt/bionic/x86_64/anaconda3/2019.07/lib/python3.7/site-packages/keras/backend/tensorflow_backend.py:174: The name tf.get_default_session is deprecated. Please use tf.compat.v1.get_default_session instead.\n",
      "\n",
      "W0910 14:53:27.102748 140108377229120 deprecation_wrapper.py:119] From /software/opt/bionic/x86_64/anaconda3/2019.07/lib/python3.7/site-packages/keras/optimizers.py:790: The name tf.train.Optimizer is deprecated. Please use tf.compat.v1.train.Optimizer instead.\n",
      "\n",
      "W0910 14:53:27.168823 140108377229120 deprecation.py:323] From /software/opt/bionic/x86_64/anaconda3/2019.07/lib/python3.7/site-packages/tensorflow/python/ops/math_grad.py:1250: add_dispatch_support.<locals>.wrapper (from tensorflow.python.ops.array_ops) is deprecated and will be removed in a future version.\n",
      "Instructions for updating:\n",
      "Use tf.where in 2.0, which has the same broadcast rule as np.where\n"
     ]
    }
   ],
   "source": [
    "model = keras.models.load_model(\"CNNIntro_model.h5\")"
   ]
  },
  {
   "cell_type": "markdown",
   "metadata": {},
   "source": [
    "Start with this random image:"
   ]
  },
  {
   "cell_type": "code",
   "execution_count": 5,
   "metadata": {},
   "outputs": [],
   "source": [
    "rnd_img = 0.1*np.random.rand(1, 32, 32, 3)"
   ]
  },
  {
   "cell_type": "code",
   "execution_count": 6,
   "metadata": {},
   "outputs": [
    {
     "data": {
      "text/plain": [
       "<matplotlib.image.AxesImage at 0x7f6d3d041278>"
      ]
     },
     "execution_count": 6,
     "metadata": {},
     "output_type": "execute_result"
    },
    {
     "data": {
      "image/png": "[encoded data removed]",
      "text/plain": [
       "<Figure size 432x288 with 1 Axes>"
      ]
     },
     "metadata": {
      "needs_background": "light"
     },
     "output_type": "display_data"
    }
   ],
   "source": [
    "plt.imshow(rnd_img[0])"
   ]
  },
  {
   "cell_type": "markdown",
   "metadata": {},
   "source": [
    "What does our model say to this?"
   ]
  },
  {
   "cell_type": "code",
   "execution_count": 7,
   "metadata": {},
   "outputs": [
    {
     "data": {
      "text/plain": [
       "([0, 1, 2, 3, 4, 5, 6, 7, 8, 9], <a list of 10 Text xticklabel objects>)"
      ]
     },
     "execution_count": 7,
     "metadata": {},
     "output_type": "execute_result"
    },
    {
     "data": {
      "image/png": "[encoded data removed]",
      "text/plain": [
       "<Figure size 432x288 with 1 Axes>"
      ]
     },
     "metadata": {
      "needs_background": "light"
     },
     "output_type": "display_data"
    }
   ],
   "source": [
    "plt.bar(labels, model.predict(rnd_img)[0])\n",
    "plt.xticks(rotation=90)"
   ]
  },
  {
   "cell_type": "markdown",
   "metadata": {},
   "source": [
    "Let's see if we can modify the image such that the NN thinks this is a cat. So we want to maximise the output for cat:"
   ]
  },
  {
   "cell_type": "code",
   "execution_count": 66,
   "metadata": {},
   "outputs": [
    {
     "data": {
      "text/plain": [
       "<tf.Tensor 'Mean_6:0' shape=() dtype=float32>"
      ]
     },
     "execution_count": 66,
     "metadata": {},
     "output_type": "execute_result"
    }
   ],
   "source": [
    "cat_loss = K.mean(model.output[:,labels.index('cat')])\n",
    "cat_loss"
   ]
  },
  {
   "cell_type": "markdown",
   "metadata": {},
   "source": [
    "By calculating the gradient w.r.t. the input image"
   ]
  },
  {
   "cell_type": "code",
   "execution_count": 67,
   "metadata": {},
   "outputs": [],
   "source": [
    "grad_inp_fn = K.function([model.input], K.gradients(cat_loss, [model.input]))"
   ]
  },
  {
   "cell_type": "markdown",
   "metadata": {},
   "source": [
    "Now, call this function on the input image and create a new one by successively following the gradient for a few steps and check if the neural network then sees a cat. The function is called with a list of one element in this case and returns one element:"
   ]
  },
  {
   "cell_type": "code",
   "execution_count": 68,
   "metadata": {},
   "outputs": [
    {
     "data": {
      "text/plain": [
       "[array([[[[ 0.00000000e+00,  0.00000000e+00,  0.00000000e+00],\n",
       "          [ 0.00000000e+00,  0.00000000e+00,  0.00000000e+00],\n",
       "          [-2.85036513e-04, -1.17516254e-04, -2.17117020e-04],\n",
       "          ...,\n",
       "          [ 1.44519348e-04,  1.50033098e-04, -4.67086065e-04],\n",
       "          [ 1.00197401e-04,  7.27225415e-05,  1.13969072e-05],\n",
       "          [ 1.15650910e-04,  1.62785043e-04,  6.54946489e-05]],\n",
       " \n",
       "         [[ 4.10168519e-04,  1.74530840e-04,  1.12885726e-04],\n",
       "          [-5.46147232e-04, -2.10716651e-04, -1.14489594e-04],\n",
       "          [-1.81765703e-04,  6.13257405e-04, -9.41167120e-04],\n",
       "          ...,\n",
       "          [-4.56439011e-04, -1.37566298e-04, -4.37592098e-04],\n",
       "          [ 2.50365702e-05,  2.52473372e-04,  4.73593129e-04],\n",
       "          [ 1.12166737e-04, -8.27112817e-05, -2.18082656e-04]],\n",
       " \n",
       "         [[ 3.93427530e-04,  1.77208189e-04,  2.17451961e-04],\n",
       "          [-1.27467583e-03,  1.08783010e-04, -1.89247163e-04],\n",
       "          [ 7.39875133e-04,  3.35591682e-03,  3.43541894e-03],\n",
       "          ...,\n",
       "          [-2.54920800e-04, -2.53990002e-04,  2.91383156e-04],\n",
       "          [-1.60389056e-04,  2.64765375e-04,  4.66245605e-04],\n",
       "          [ 2.75050901e-04, -1.69315281e-05, -2.76762672e-04]],\n",
       " \n",
       "         ...,\n",
       " \n",
       "         [[-1.53056346e-03, -9.47735389e-04, -1.38500321e-03],\n",
       "          [-2.04780465e-03, -1.61208678e-03, -1.40317983e-03],\n",
       "          [-1.39778550e-03, -3.32708820e-03, -1.02590434e-02],\n",
       "          ...,\n",
       "          [-4.91756573e-03, -6.58424990e-03, -4.52039856e-03],\n",
       "          [-2.27416446e-03, -7.04866461e-03, -5.45758568e-03],\n",
       "          [ 4.90656297e-04,  3.91891692e-04,  1.06634945e-03]],\n",
       " \n",
       "         [[-2.93059333e-04,  6.26095862e-05,  5.95378282e-04],\n",
       "          [-1.71408174e-03,  6.45426975e-04, -4.03288228e-04],\n",
       "          [-1.03460776e-03, -4.20511235e-03, -2.23076018e-03],\n",
       "          ...,\n",
       "          [-2.26783892e-03, -2.39920872e-03, -2.54282524e-04],\n",
       "          [-3.17720231e-03, -1.22409547e-03, -1.70140434e-03],\n",
       "          [-4.19328222e-04,  8.60458531e-04,  3.62461840e-04]],\n",
       " \n",
       "         [[-2.08766141e-04, -1.36643095e-04, -8.85456684e-05],\n",
       "          [-2.83044385e-04,  1.80552306e-05,  1.02280908e-04],\n",
       "          [ 3.40875075e-03,  3.48856277e-03,  7.01074605e-04],\n",
       "          ...,\n",
       "          [ 6.90553396e-04,  5.61370864e-04,  1.83560676e-03],\n",
       "          [ 7.39047828e-05,  1.09857367e-03, -1.20803295e-03],\n",
       "          [-1.94315740e-04, -2.10518047e-05, -3.60657752e-04]]]],\n",
       "       dtype=float32)]"
      ]
     },
     "execution_count": 68,
     "metadata": {},
     "output_type": "execute_result"
    }
   ],
   "source": [
    "grad_inp_fn([rnd_img])"
   ]
  },
  {
   "cell_type": "code",
   "execution_count": 71,
   "metadata": {},
   "outputs": [
    {
     "name": "stdout",
     "output_type": "stream",
     "text": [
      "(32, 32, 3) (1, 32, 32, 3) (1, 32, 32, 3)\n"
     ]
    },
    {
     "data": {
      "text/plain": [
       "([0, 1, 2, 3, 4, 5, 6, 7, 8, 9], <a list of 10 Text xticklabel objects>)"
      ]
     },
     "execution_count": 71,
     "metadata": {},
     "output_type": "execute_result"
    },
    {
     "data": {
      "image/png": "[encoded data removed]",
      "text/plain": [
       "<Figure size 432x288 with 1 Axes>"
      ]
     },
     "metadata": {
      "needs_background": "light"
     },
     "output_type": "display_data"
    }
   ],
   "source": [
    "def nstep(img,grad,n,rate=1):\n",
    "    \n",
    "    for i in range(n):\n",
    "        imgn = img + rate*grad[0]\n",
    "        img = imgn*1\n",
    "        grad=grad_inp_fn([imgn])\n",
    "    \n",
    "    return imgn\n",
    "\n",
    "\n",
    "new_rand_img = nstep(rnd_img,grad_inp_fn([rnd_img]),1)\n",
    "new_rand_img = nstep(new_rand_img,grad_inp_fn([new_rand_img]),100)\n",
    "print(rnd_img[0].shape,grad_inp_fn([rnd_img])[0].shape,new_rand_img.shape)\n",
    "\n",
    "plt.bar(labels, model.predict(new_rand_img)[0])\n",
    "plt.xticks(rotation=np.random.randint(10000))\n"
   ]
  },
  {
   "cell_type": "code",
   "execution_count": 50,
   "metadata": {},
   "outputs": [
    {
     "name": "stderr",
     "output_type": "stream",
     "text": [
      "W0910 15:07:49.958886 140108377229120 image.py:693] Clipping input data to the valid range for imshow with RGB data ([0..1] for floats or [0..255] for integers).\n"
     ]
    },
    {
     "data": {
      "text/plain": [
       "<matplotlib.image.AxesImage at 0x7f6c9e466630>"
      ]
     },
     "execution_count": 50,
     "metadata": {},
     "output_type": "execute_result"
    },
    {
     "data": {
      "image/png": "[encoded data removed]",
      "text/plain": [
       "<Figure size 432x288 with 1 Axes>"
      ]
     },
     "metadata": {
      "needs_background": "light"
     },
     "output_type": "display_data"
    }
   ],
   "source": [
    "plt.imshow(new_rand_img[0])"
   ]
  },
  {
   "cell_type": "code",
   "execution_count": null,
   "metadata": {},
   "outputs": [],
   "source": []
  },
  {
   "cell_type": "code",
   "execution_count": null,
   "metadata": {},
   "outputs": [],
   "source": []
  },
  {
   "cell_type": "code",
   "execution_count": null,
   "metadata": {},
   "outputs": [],
   "source": []
  }
 ],
 "metadata": {
  "kernelspec": {
   "display_name": "Python 3",
   "language": "python",
   "name": "python3"
  },
  "language_info": {
   "codemirror_mode": {
    "name": "ipython",
    "version": 3
   },
   "file_extension": ".py",
   "mimetype": "text/x-python",
   "name": "python",
   "nbconvert_exporter": "python",
   "pygments_lexer": "ipython3",
   "version": "3.7.3"
  }
 },
 "nbformat": 4,
 "nbformat_minor": 2
}
